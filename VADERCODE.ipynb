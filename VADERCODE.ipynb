{
 "cells": [
  {
   "cell_type": "code",
   "execution_count": 2,
   "id": "aa2f754e",
   "metadata": {},
   "outputs": [
    {
     "name": "stdout",
     "output_type": "stream",
     "text": [
      "Text: I love this product! It's absolutely amazing.\n",
      "Scores: {'neg': 0.0, 'neu': 0.318, 'pos': 0.682, 'compound': 0.862}\n",
      "Sentiment: Positive\n",
      "\n",
      "Text: This is the worst experience I have ever had.\n",
      "Scores: {'neg': 0.369, 'neu': 0.631, 'pos': 0.0, 'compound': -0.6249}\n",
      "Sentiment: Negative\n",
      "\n",
      "Text: I am not sure how I feel about this.\n",
      "Scores: {'neg': 0.246, 'neu': 0.754, 'pos': 0.0, 'compound': -0.2411}\n",
      "Sentiment: Negative\n",
      "\n",
      "Text: It's okay, not the best but not the worst either.\n",
      "Scores: {'neg': 0.145, 'neu': 0.464, 'pos': 0.391, 'compound': 0.5729}\n",
      "Sentiment: Positive\n",
      "\n",
      "Text: I am extremely happy with the service!\n",
      "Scores: {'neg': 0.0, 'neu': 0.539, 'pos': 0.461, 'compound': 0.6468}\n",
      "Sentiment: Positive\n",
      "\n"
     ]
    },
    {
     "name": "stderr",
     "output_type": "stream",
     "text": [
      "[nltk_data] Downloading package vader_lexicon to\n",
      "[nltk_data]     C:\\Users\\u21629545\\AppData\\Roaming\\nltk_data...\n",
      "[nltk_data]   Package vader_lexicon is already up-to-date!\n"
     ]
    }
   ],
   "source": [
    "import nltk\n",
    "from nltk.sentiment.vader import SentimentIntensityAnalyzer\n",
    "\n",
    "# Download VADER\n",
    "nltk.download('vader_lexicon')\n",
    "\n",
    "# Initialise sentiment analyser\n",
    "sid = SentimentIntensityAnalyzer()\n",
    "\n",
    "# Inputs texts\n",
    "texts = [\n",
    "    \"I love this product! It's absolutely amazing.\",\n",
    "    \"This is the worst experience I have ever had.\",\n",
    "    \"I am not sure how I feel about this.\",\n",
    "    \"It's okay, not the best but not the worst either.\",\n",
    "    \"I am extremely happy with the service!\",\n",
    "]\n",
    "\n",
    "# Function to analyze sentiments\n",
    "def analyze_sentiment(text):\n",
    "    scores = sid.polarity_scores(text)\n",
    "    print(f\"Text: {text}\")\n",
    "    print(f\"Scores: {scores}\")\n",
    "    if scores['compound'] >= 0.05:\n",
    "        print(\"Sentiment: Positive\")\n",
    "    elif scores['compound'] <= -0.05:\n",
    "        print(\"Sentiment: Negative\")\n",
    "    else:\n",
    "        print(\"Sentiment: Neutral\")\n",
    "    print(\"\")\n",
    "\n",
    "# Analyze the sentiments of the example texts\n",
    "for text in texts:\n",
    "    analyze_sentiment(text)\n"
   ]
  },
  {
   "cell_type": "code",
   "execution_count": null,
   "id": "698416ca",
   "metadata": {},
   "outputs": [],
   "source": []
  }
 ],
 "metadata": {
  "kernelspec": {
   "display_name": "Python 3 (ipykernel)",
   "language": "python",
   "name": "python3"
  },
  "language_info": {
   "codemirror_mode": {
    "name": "ipython",
    "version": 3
   },
   "file_extension": ".py",
   "mimetype": "text/x-python",
   "name": "python",
   "nbconvert_exporter": "python",
   "pygments_lexer": "ipython3",
   "version": "3.9.13"
  }
 },
 "nbformat": 4,
 "nbformat_minor": 5
}
